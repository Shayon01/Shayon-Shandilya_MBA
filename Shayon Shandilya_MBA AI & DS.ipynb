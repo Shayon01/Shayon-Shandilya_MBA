{
 "cells": [
  {
   "cell_type": "markdown",
   "id": "54b0cc7e-9771-47b8-8ac9-cd30458329c1",
   "metadata": {},
   "source": [
    "# UNIT 1"
   ]
  },
  {
   "cell_type": "markdown",
   "id": "0d697d37-537e-4542-87ba-91fdaa19d6ee",
   "metadata": {},
   "source": [
    "### WAP to input the length of a series or list and create a list dynamically and search from the list using linear search"
   ]
  },
  {
   "cell_type": "code",
   "execution_count": 15,
   "id": "a98571ed-caa2-4635-8486-2331c022a05c",
   "metadata": {},
   "outputs": [
    {
     "name": "stdout",
     "output_type": "stream",
     "text": [
      "Element found at index: 3\n"
     ]
    }
   ],
   "source": [
    "\n",
    "def linear_search(arr, target):\n",
    "    # Traverse through all elements in the array\n",
    "    for index in range(len(arr)):\n",
    "        # If the element is found, return its index\n",
    "        if arr[index] == target:\n",
    "            return index\n",
    "    # If the element is not found, return -1\n",
    "    return -1\n",
    "\n",
    "# Example usage:\n",
    "arr = [10, 23, 45, 70, 11, 15]\n",
    "target = 70\n",
    "\n",
    "# Function call\n",
    "result = linear_search(arr, target)\n",
    "\n",
    "if result != -1:\n",
    "    print(f\"Element found at index: {result}\")\n",
    "else:\n",
    "    print(\"Element not found in the array\")\n"
   ]
  },
  {
   "cell_type": "markdown",
   "id": "8a14d6a9-beee-45a7-a12d-ebd4e15e8b69",
   "metadata": {},
   "source": [
    "### WAP to create a dict for every students data SD include(NAME< ROLLNO. Course id) hence create an input for the roll no and output the course id"
   ]
  },
  {
   "cell_type": "code",
   "execution_count": null,
   "id": "ac8a3291-d1ae-4a24-8555-c183b07e55db",
   "metadata": {},
   "outputs": [],
   "source": []
  },
  {
   "cell_type": "code",
   "execution_count": 70,
   "id": "3205ec3e-d704-4d52-a11f-5da89772ef45",
   "metadata": {},
   "outputs": [
    {
     "name": "stdin",
     "output_type": "stream",
     "text": [
      "Enter the number of students:  2\n"
     ]
    },
    {
     "name": "stdout",
     "output_type": "stream",
     "text": [
      "\n",
      "Enter details for student:\n"
     ]
    },
    {
     "name": "stdin",
     "output_type": "stream",
     "text": [
      "Roll Number:  1234\n",
      "Name:  Shayon\n",
      "Course ID:  12345\n"
     ]
    },
    {
     "name": "stdout",
     "output_type": "stream",
     "text": [
      "\n",
      "Enter details for student:\n"
     ]
    },
    {
     "name": "stdin",
     "output_type": "stream",
     "text": [
      "Roll Number:  23\n",
      "Name:  Kunal\n",
      "Course ID:  12\n",
      "\n",
      "Enter the Roll Number to find the Course ID:  1234\n"
     ]
    },
    {
     "name": "stdout",
     "output_type": "stream",
     "text": [
      "Course ID for Roll Number 1234: 12345\n"
     ]
    }
   ],
   "source": [
    "students = {}\n",
    "n = int(input(\"Enter the number of students: \"))\n",
    "\n",
    "for _ in range(n):\n",
    "    print(\"\\nEnter details for student:\")\n",
    "    roll_no = input(\"Roll Number: \")\n",
    "    name = input(\"Name: \")\n",
    "    course_id = input(\"Course ID: \")\n",
    "\n",
    "    students[roll_no] = {\"Name\": name, \"Course ID\": course_id}\n",
    "\n",
    "search_roll_no = input(\"\\nEnter the Roll Number to find the Course ID: \")\n",
    "\n",
    "if search_roll_no in students:\n",
    "    print(f\"Course ID for Roll Number {search_roll_no}: {students[search_roll_no]['Course ID']}\")\n",
    "else:\n",
    "    print(f\"Roll Number {search_roll_no} not found.\")\n",
    "\n",
    "\n"
   ]
  },
  {
   "cell_type": "markdown",
   "id": "6dc4bf84-d41d-4f56-9753-acc996d0e60a",
   "metadata": {},
   "source": [
    "# UNIT 2"
   ]
  },
  {
   "cell_type": "markdown",
   "id": "ff3914ad-f8d4-410f-8fea-2c92f80d7408",
   "metadata": {},
   "source": [
    "### Write a python program to input two number perform all basic operations"
   ]
  },
  {
   "cell_type": "code",
   "execution_count": 19,
   "id": "38d77907-5273-4157-b34d-06294099ade6",
   "metadata": {},
   "outputs": [
    {
     "name": "stdin",
     "output_type": "stream",
     "text": [
      "Enter first number:  34\n",
      "Enter second number:  54\n"
     ]
    },
    {
     "name": "stdout",
     "output_type": "stream",
     "text": [
      "Results:-\n",
      "Addition:  88\n",
      "Subtraction:  -20\n",
      "Multiplication:  1836\n",
      "Division:  0.6296296296296297\n",
      "Modulus:  34\n",
      "Floor Division:  0\n",
      "Exponentiation:  50102744987272601939484648898079238627025059249183532926335374013984750674521358336\n"
     ]
    }
   ],
   "source": [
    "num1 = int(input(\"Enter first number: \"))\n",
    "num2 = int(input(\"Enter second number: \"))\n",
    "print(\"Results:-\")\n",
    "print(\"Addition: \",num1+num2)\n",
    "print(\"Subtraction: \",num1-num2)\n",
    "print(\"Multiplication: \",num1*num2)\n",
    "print(\"Division: \",num1/num2)\n",
    "print(\"Modulus: \", num1%num2)\n",
    "print(\"Floor Division: \",num1//num2)\n",
    "print(\"Exponentiation: \",num1 ** num2)\n"
   ]
  },
  {
   "cell_type": "markdown",
   "id": "1c17e73c-1646-4fcd-adb7-2878cee5c889",
   "metadata": {},
   "source": [
    "### Write a python program to check whether the number is even or odd"
   ]
  },
  {
   "cell_type": "code",
   "execution_count": 24,
   "id": "ec4429b6-95d4-49d8-bd6c-38d29f5ce1ec",
   "metadata": {},
   "outputs": [
    {
     "name": "stdout",
     "output_type": "stream",
     "text": [
      "24 Is Even Number\n",
      "19 Is Even Number\n"
     ]
    }
   ],
   "source": [
    "x = 24\n",
    "  \n",
    "if x % 24 == 0:\n",
    "    print(x,\"Is Even Number\")\n",
    "else:\n",
    "    print(x, \"Is Odd Number\")\n",
    "    \n",
    "y = 19\n",
    "  \n",
    "if y % 19 == 0:\n",
    "    print(y,\"Is Even Number\")\n",
    "else:\n",
    "    print(y, \"Is Odd Number\")\n"
   ]
  },
  {
   "cell_type": "markdown",
   "id": "7c1ce37e-073b-435a-a9da-afa8dc36df16",
   "metadata": {},
   "source": [
    "### To check whether number is divisible by 3 or not if number divible by 3 also check divisible by 5"
   ]
  },
  {
   "cell_type": "code",
   "execution_count": 28,
   "id": "fe0fd5f9-424f-4115-8c3f-6e6cb83f8b75",
   "metadata": {},
   "outputs": [
    {
     "name": "stdout",
     "output_type": "stream",
     "text": [
      "0 15 30 45 60 75 90 "
     ]
    }
   ],
   "source": [
    "def result(N):\n",
    "\t\n",
    "\t\n",
    "\tfor num in range(N):\n",
    "\t\t\n",
    "\t\t \n",
    "\t\t\tif num % 3 == 0 and num % 5 == 0:\n",
    "\t\t\t\tprint(str(num) + \" \", end = \"\")\n",
    "\t\t\t\t\n",
    "\t\t\telse:\n",
    "\t\t\t\tpass\n",
    "\n",
    "\n",
    "if __name__ == \"__main__\":\n",
    "\t\n",
    "\t\n",
    "\tN = 100\n",
    "\t\n",
    "\n",
    "\tresult(N)\n"
   ]
  },
  {
   "cell_type": "markdown",
   "id": "aae18302-3193-4a65-82a9-62e47f39c487",
   "metadata": {},
   "source": [
    "### Write a python program to print hello world"
   ]
  },
  {
   "cell_type": "code",
   "execution_count": 88,
   "id": "e48fd0cf-9ac0-4d53-a2c3-f733770176c5",
   "metadata": {},
   "outputs": [
    {
     "name": "stdout",
     "output_type": "stream",
     "text": [
      "Hello World\n"
     ]
    }
   ],
   "source": [
    "print(\"Hello World\")\n"
   ]
  },
  {
   "cell_type": "markdown",
   "id": "508fa88a-e01d-4ea0-8a55-444ddcfa1953",
   "metadata": {},
   "source": [
    "### Create a basic ATM program tht allows user to check their balance, deposit money and withdraw money ensuring they dont withdraw more than they have."
   ]
  },
  {
   "cell_type": "code",
   "execution_count": 92,
   "id": "59d1b0e6-e7a3-437f-bffc-c8d011f6a8b7",
   "metadata": {},
   "outputs": [
    {
     "name": "stdout",
     "output_type": "stream",
     "text": [
      "ATM\n"
     ]
    },
    {
     "name": "stdin",
     "output_type": "stream",
     "text": [
      "Enter your A/c number: 1234567890\n",
      "Enter your ATM PIN 1234\n"
     ]
    },
    {
     "name": "stdout",
     "output_type": "stream",
     "text": [
      "Login successful!\n",
      "1. Check Balance\n",
      "2. Deposit Money\n",
      "3. Withdraw Money\n",
      "4. Exit\n"
     ]
    },
    {
     "name": "stdin",
     "output_type": "stream",
     "text": [
      "Enter a number of an option 4\n"
     ]
    },
    {
     "name": "stdout",
     "output_type": "stream",
     "text": [
      "Thank you for using our ATM!\n"
     ]
    }
   ],
   "source": [
    "ATM=[\n",
    "    {\"A/cNo.\":1234567890,\"Amount\":1500000,\"ATMPIN\":1234},\n",
    "    {\"A/cNo.\":1987654321,\"Amount\":1000,\"ATMPIN\":4321}\n",
    "]\n",
    "print('ATM')\n",
    "account=0\n",
    "a=int(input(\"Enter your A/c number:\"))\n",
    "Pin=int(input(\"Enter your ATM PIN\"))\n",
    "for ac in ATM:\n",
    "    if ac['A/cNo.']==a and ac['ATMPIN']==Pin:\n",
    "        account=ac\n",
    "    break\n",
    "if account:\n",
    "    print(\"Login successful!\")\n",
    "    while 1==1:\n",
    "        print(\"1. Check Balance\")\n",
    "        print(\"2. Deposit Money\")\n",
    "        print(\"3. Withdraw Money\")\n",
    "        print(\"4. Exit\")\n",
    "        choice=int(input(\"Enter a number of an option\"))\n",
    "        \n",
    "        if choice==1:\n",
    "            print(f\"Balance is: Rs.{account['Amount']}\")\n",
    "            \n",
    "        elif choice==2:\n",
    "            deposit=int(input(\"Please add some deposit:\"))\n",
    "            \n",
    "            if deposit>0:\n",
    "                account['Amount']+=deposit\n",
    "                print(f\"deposit Rs.{deposit}.Newbalance: Rs.{account['Amount']}\")\n",
    "            else:\n",
    "                print(\"Invalid amount\")\n",
    "                \n",
    "        elif choice == 3:\n",
    "            withdraw=int(input(\"Please withdraw some amount:\"))\n",
    "            \n",
    "            if withdraw>account['Amount']:\n",
    "                print(\"Balance is Insuffient.\")\n",
    "            elif withdraw<=0:\n",
    "                print(\"Please enter accurate amount\")\n",
    "            else:\n",
    "              account[\"Amount\"] -= withdraw \n",
    "              print(f\"Withraw Rs.{withdraw}.Newbalance: Rs.{account['Amount']}\")\n",
    "                \n",
    "        elif choice == 4:\n",
    "            print(\"Thank you for using our ATM!\")\n",
    "            break\n",
    "            \n",
    "        else:\n",
    "            print(\"Invalid option.\")\n",
    "else:\n",
    "    print(\"Invalid account number or PIN!\")"
   ]
  },
  {
   "cell_type": "markdown",
   "id": "970439d0-7c55-48f4-9702-00a3b01f26d4",
   "metadata": {},
   "source": [
    "### To print all even number from 1 to 100"
   ]
  },
  {
   "cell_type": "code",
   "execution_count": 37,
   "id": "912773c1-6924-46b8-940d-f8d415d02697",
   "metadata": {},
   "outputs": [
    {
     "name": "stdout",
     "output_type": "stream",
     "text": [
      "4 6 8 10 12 14 "
     ]
    }
   ],
   "source": [
    "# Python program to print all even numbers in range\n",
    "for even_numbers in range(4,15,2):\n",
    "#here inside range function first no denotes starting,\n",
    "#second denotes end and\n",
    "#third denotes the interval\n",
    "\tprint(even_numbers,end=' ')\n"
   ]
  },
  {
   "cell_type": "markdown",
   "id": "68c5929f-4235-4370-8bc5-4c2cf466b32d",
   "metadata": {},
   "source": [
    "### To print the table of any number given by the user"
   ]
  },
  {
   "cell_type": "code",
   "execution_count": 43,
   "id": "22f543fd-ae2a-4145-9e69-00162a783bd9",
   "metadata": {},
   "outputs": [
    {
     "name": "stdout",
     "output_type": "stream",
     "text": [
      "5 * 1 = 5\n",
      "5 * 2 = 10\n",
      "5 * 3 = 15\n",
      "5 * 4 = 20\n",
      "5 * 5 = 25\n",
      "5 * 6 = 30\n",
      "5 * 7 = 35\n",
      "5 * 8 = 40\n",
      "5 * 9 = 45\n",
      "5 * 10 = 50\n"
     ]
    }
   ],
   "source": [
    "# Python Program to print table \n",
    "# of a number upto 10\n",
    "\n",
    "def table(n):\n",
    "\tfor i in range (1, 11): \n",
    "\t\t\n",
    "\t\t# multiples from 1 to 10\n",
    "\t\tprint (\"%d * %d = %d\" % (n, i, n * i))\n",
    "\n",
    "# number for which table is evaluated\n",
    "n = 5\n",
    "table(n)\n"
   ]
  },
  {
   "cell_type": "markdown",
   "id": "e22082ed-5a44-4b9c-9eeb-e767d5d71023",
   "metadata": {},
   "source": [
    "### Create a python program to print this pattern\n"
   ]
  },
  {
   "cell_type": "code",
   "execution_count": 29,
   "id": "b8a56c82-ebdf-4250-918c-069174c4777b",
   "metadata": {},
   "outputs": [
    {
     "name": "stdout",
     "output_type": "stream",
     "text": [
      "*\n",
      "**\n",
      "***\n",
      "****\n",
      "*****\n"
     ]
    }
   ],
   "source": [
    "for i in range(0,5):\n",
    "    for j in range(0,i+1):\n",
    "        print(\"*\",end=\"\")\n",
    "    print(\"\")"
   ]
  },
  {
   "cell_type": "markdown",
   "id": "cefaae7e-8bcb-44c1-a82f-068d9629c205",
   "metadata": {},
   "source": [
    "### Write a Python Program to Print this Patterm."
   ]
  },
  {
   "cell_type": "code",
   "execution_count": 33,
   "id": "8d486f2f-55dc-4574-afa2-4d7d328202b1",
   "metadata": {},
   "outputs": [
    {
     "name": "stdout",
     "output_type": "stream",
     "text": [
      "**********\n",
      "**********\n",
      "**********\n",
      "**********\n",
      "**********\n"
     ]
    }
   ],
   "source": [
    "rows = 5\n",
    "columns = 10\n",
    "for i in range(rows):\n",
    "    print(\"*\" * columns)"
   ]
  },
  {
   "cell_type": "markdown",
   "id": "ae89bfba-e763-4a96-b197-03725e2e175f",
   "metadata": {},
   "source": [
    "# UNIT 3"
   ]
  },
  {
   "cell_type": "markdown",
   "id": "cf6c4db8-ec9c-4923-acfd-3d682c70269a",
   "metadata": {},
   "source": [
    "### WAP to print Fibonacci series"
   ]
  },
  {
   "cell_type": "code",
   "execution_count": null,
   "id": "0f2e6e29-ad58-43e7-aa69-5ebbc63bfb8b",
   "metadata": {},
   "outputs": [],
   "source": [
    "n = 10\n",
    "num1 = 0\n",
    "num2 = 1\n",
    "next_number = num2  \n",
    "count = 1\n",
    "\n",
    "while count <= n:\n",
    "    print(next_number, end=\" \")\n",
    "    count += 1\n",
    "    num1, num2 = num2, next_number\n",
    "    next_number = num1 + num2\n",
    "print()\n"
   ]
  },
  {
   "cell_type": "markdown",
   "id": "33bf8da4-5cf1-4ae0-959d-d492c599928c",
   "metadata": {},
   "source": [
    "### WAP to input a number whether it is palidrone or not"
   ]
  },
  {
   "cell_type": "code",
   "execution_count": 5,
   "id": "d602d555-6088-4d90-b66a-92d305b47b15",
   "metadata": {},
   "outputs": [
    {
     "name": "stdout",
     "output_type": "stream",
     "text": [
      "The original number is : 9669669\n",
      "Is the number palindrome ? : True\n"
     ]
    }
   ],
   "source": [
    "import math\n",
    "\n",
    "def rev(num):\n",
    "\treturn int(num != 0) and ((num % 10) * \\\n",
    "\t\t\t(10**int(math.log(num, 10))) + \\\n",
    "\t\t\t\t\t\trev(num // 10))\n",
    "\n",
    "test_number = 9669669\n",
    "print (\"The original number is : \" + str(test_number))\n",
    "\n",
    "res = test_number == rev(test_number)\n",
    "print (\"Is the number palindrome ? : \" + str(res))\n"
   ]
  },
  {
   "cell_type": "markdown",
   "id": "b13e7cbb-9e7a-487a-899a-4c868d496925",
   "metadata": {},
   "source": [
    "### write a python program to create function for every mathematical operations and create calculator using the same"
   ]
  },
  {
   "cell_type": "code",
   "execution_count": 37,
   "id": "a8d33f4c-9ec5-44b5-9706-069cd9b4002f",
   "metadata": {},
   "outputs": [
    {
     "name": "stdout",
     "output_type": "stream",
     "text": [
      "Select operation.\n",
      "1.Add\n",
      "2.Subtract\n",
      "3.Multiply\n",
      "4.Divide\n",
      "5.Exit\n"
     ]
    },
    {
     "name": "stdin",
     "output_type": "stream",
     "text": [
      "Enter choice(1/2/3/4/5):  2\n",
      "Enter number 1 45\n",
      "Enter number 2 76\n"
     ]
    },
    {
     "name": "stdout",
     "output_type": "stream",
     "text": [
      "45 - 76 = -31\n"
     ]
    },
    {
     "name": "stdin",
     "output_type": "stream",
     "text": [
      "Enter choice(1/2/3/4/5):  5\n"
     ]
    },
    {
     "name": "stdout",
     "output_type": "stream",
     "text": [
      "Thank you for using\n"
     ]
    }
   ],
   "source": [
    "def add(a,b):\n",
    "    return a+b\n",
    "def sub(a,b):\n",
    "    return a-b\n",
    "def multiply(a,b):\n",
    "    return a*b\n",
    "def divide(a,b):\n",
    "    return a/b\n",
    "\n",
    "print(\"Select operation.\")\n",
    "print(\"1.Add\")\n",
    "print(\"2.Subtract\")\n",
    "print(\"3.Multiply\")\n",
    "print(\"4.Divide\")\n",
    "print(\"5.Exit\")\n",
    "\n",
    "while 1==1:\n",
    "    \n",
    "    choice = input(\"Enter choice(1/2/3/4/5): \")\n",
    "    \n",
    "    if choice in ('1', '2', '3', '4','5'):\n",
    "        \n",
    "        if choice == '1':\n",
    "            num1=int(input(\"Enter number 1\"))\n",
    "            num2=int(input(\"Enter number 2\"))\n",
    "            print(num1, \"+\", num2, \"=\", add(num1, num2))\n",
    "\n",
    "        elif choice == '2':\n",
    "            num1=int(input(\"Enter number 1\"))\n",
    "            num2=int(input(\"Enter number 2\"))\n",
    "            print(num1, \"-\", num2, \"=\", sub(num1, num2))\n",
    "\n",
    "        elif choice == '3':\n",
    "            num1=int(input(\"Enter number 1\"))\n",
    "            num2=int(input(\"Enter number 2\"))\n",
    "            print(num1, \"*\", num2, \"=\", multiply(num1, num2))\n",
    "\n",
    "        elif choice == '4':\n",
    "            num1=int(input(\"Enter number 1\"))\n",
    "            num2=int(input(\"Enter number 2\"))\n",
    "            print(num1, \"/\", num2, \"=\", divide(num1, num2))\n",
    "            \n",
    "        elif choice == '5':\n",
    "            print(\"Thank you for using\")\n",
    "            break\n",
    "            \n",
    "    else:\n",
    "        print(\"Invalid Input\")"
   ]
  },
  {
   "cell_type": "markdown",
   "id": "43a250a0-9ce9-4799-b1d1-10eeac7f0e23",
   "metadata": {},
   "source": [
    "### Write a Python Program to swap two numbers using 3rd Variable"
   ]
  },
  {
   "cell_type": "code",
   "execution_count": 41,
   "id": "7dcf7f53-99b6-491b-9584-879276979828",
   "metadata": {},
   "outputs": [
    {
     "name": "stdout",
     "output_type": "stream",
     "text": [
      "Before swapping:\n",
      "a = 5\n",
      "b = 10\n",
      "\n",
      "After swapping:\n",
      "a = 10\n",
      "b = 5\n"
     ]
    }
   ],
   "source": [
    "a = 5\n",
    "b = 10\n",
    "\n",
    "print(\"Before swapping:\")\n",
    "print(\"a =\", a)\n",
    "print(\"b =\", b)\n",
    "\n",
    "temp = a\n",
    "a = b\n",
    "b = temp\n",
    "\n",
    "print(\"\\nAfter swapping:\")\n",
    "print(\"a =\", a)\n",
    "print(\"b =\", b)"
   ]
  },
  {
   "cell_type": "markdown",
   "id": "ec361bc9-d53e-4443-88d1-1f664da6b254",
   "metadata": {},
   "source": [
    "### Write a Python Program to swap two numbers without using another 3rd variable"
   ]
  },
  {
   "cell_type": "code",
   "execution_count": 45,
   "id": "08738fc2-ab62-4c62-a310-a34afa0ac46b",
   "metadata": {},
   "outputs": [
    {
     "name": "stdout",
     "output_type": "stream",
     "text": [
      "Before swapping:\n",
      "a = 5\n",
      "b = 10\n",
      "\n",
      "After swapping:\n",
      "a = 10\n",
      "b = 5\n"
     ]
    }
   ],
   "source": [
    "a = 5\n",
    "b = 10\n",
    "\n",
    "print(\"Before swapping:\")\n",
    "print(\"a =\", a)\n",
    "print(\"b =\", b)\n",
    "\n",
    "\n",
    "a = a + b\n",
    "b = a - b\n",
    "a = a - b\n",
    "\n",
    "print(\"\\nAfter swapping:\")\n",
    "print(\"a =\", a)\n",
    "print(\"b =\", b)"
   ]
  },
  {
   "cell_type": "markdown",
   "id": "1a941cc8-6239-43da-b639-c68526a65e45",
   "metadata": {},
   "source": [
    "### Write a Python Program to swap two numbers using using a Single Line"
   ]
  },
  {
   "cell_type": "code",
   "execution_count": 49,
   "id": "b3fbf44e-0d10-42ee-8905-c3955cdf73af",
   "metadata": {},
   "outputs": [
    {
     "name": "stdout",
     "output_type": "stream",
     "text": [
      "Before swapping:\n",
      "a = 5\n",
      "b = 10\n",
      "\n",
      "After swapping:\n",
      "a = 10\n",
      "b = 5\n"
     ]
    }
   ],
   "source": [
    "a = 5\n",
    "b = 10\n",
    "\n",
    "print(\"Before swapping:\")\n",
    "print(\"a =\", a)\n",
    "print(\"b =\", b)\n",
    "\n",
    "a, b = b, a\n",
    "\n",
    "print(\"\\nAfter swapping:\")\n",
    "print(\"a =\", a)\n",
    "print(\"b =\", b)"
   ]
  },
  {
   "cell_type": "markdown",
   "id": "a99fa72c-e5fa-4b33-8f2d-ff1475f7fe60",
   "metadata": {},
   "source": [
    "### WAP to create a function to check even or odd"
   ]
  },
  {
   "cell_type": "code",
   "execution_count": 53,
   "id": "f5793d61-ec08-46d1-92d5-0d0f5dbcfc33",
   "metadata": {},
   "outputs": [
    {
     "name": "stdin",
     "output_type": "stream",
     "text": [
      "Enter a number:  76\n"
     ]
    },
    {
     "name": "stdout",
     "output_type": "stream",
     "text": [
      "The number 76 is Even.\n"
     ]
    }
   ],
   "source": [
    "def check(number):\n",
    "    if number % 2 == 0:\n",
    "        return \"Even\"\n",
    "    else:\n",
    "        return \"Odd\"\n",
    "\n",
    "num = int(input(\"Enter a number: \"))\n",
    "\n",
    "result = check(num)\n",
    "print(f\"The number {num} is {result}.\")"
   ]
  },
  {
   "cell_type": "markdown",
   "id": "dcfccbfc-c48d-43e3-9f32-93596a43c768",
   "metadata": {},
   "source": [
    "### To create a function that output factorial of a number without recursion"
   ]
  },
  {
   "cell_type": "code",
   "execution_count": 57,
   "id": "6bea89db-8ffb-4886-a3f8-85dfbb2fa144",
   "metadata": {},
   "outputs": [
    {
     "name": "stdin",
     "output_type": "stream",
     "text": [
      "Enter number: 67\n"
     ]
    },
    {
     "name": "stdout",
     "output_type": "stream",
     "text": [
      "Factorial of the number is: \n",
      "36471110918188685288249859096605464427167635314049524593701628500267962436943872000000000000000\n"
     ]
    }
   ],
   "source": [
    "n=int(input(\"Enter number:\"))\n",
    "fact=1\n",
    "while(n>0):\n",
    "    fact=fact*n\n",
    "    n=n-1\n",
    "print(\"Factorial of the number is: \")\n",
    "print(fact)"
   ]
  },
  {
   "cell_type": "markdown",
   "id": "c395c6d5-2aca-4835-b729-b2e6747bfec8",
   "metadata": {},
   "source": [
    "### Write a Python Program to create a function that inputs any number of parameters and outputs Sum, Product and Average."
   ]
  },
  {
   "cell_type": "code",
   "execution_count": 61,
   "id": "b622f541-702e-439f-8a42-45a758e7387f",
   "metadata": {},
   "outputs": [
    {
     "name": "stdin",
     "output_type": "stream",
     "text": [
      "Enter the number of elements:  5\n",
      "Enter number 1:  5\n",
      "Enter number 2:  7\n",
      "Enter number 3:  6\n",
      "Enter number 4:  3\n",
      "Enter number 5:  3\n"
     ]
    },
    {
     "name": "stdout",
     "output_type": "stream",
     "text": [
      "\n",
      "Sum: 24.0\n",
      "Product: 1890.0\n",
      "Average: 4.8\n"
     ]
    }
   ],
   "source": [
    "def calculate_stats(*numbers):\n",
    "    total = sum(numbers)  \n",
    "    product = 1           \n",
    "    for num in numbers:\n",
    "        product *= num    \n",
    "    average = total / len(numbers)  \n",
    "    return total, product, average\n",
    "\n",
    "\n",
    "nums = []  \n",
    "n = int(input(\"Enter the number of elements: \"))  \n",
    "for i in range(n):\n",
    "    num = float(input(f\"Enter number {i + 1}: \"))  \n",
    "    nums.append(num)  \n",
    "\n",
    "total, product, average = calculate_stats(*nums)\n",
    "print(f\"\\nSum: {total}\")\n",
    "print(f\"Product: {product}\")\n",
    "print(f\"Average: {average}\")"
   ]
  }
 ],
 "metadata": {
  "kernelspec": {
   "display_name": "Python 3 (ipykernel)",
   "language": "python",
   "name": "python3"
  },
  "language_info": {
   "codemirror_mode": {
    "name": "ipython",
    "version": 3
   },
   "file_extension": ".py",
   "mimetype": "text/x-python",
   "name": "python",
   "nbconvert_exporter": "python",
   "pygments_lexer": "ipython3",
   "version": "3.11.7"
  }
 },
 "nbformat": 4,
 "nbformat_minor": 5
}
